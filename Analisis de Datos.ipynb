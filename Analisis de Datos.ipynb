{
 "cells": [
  {
   "cell_type": "markdown",
   "id": "7559e9d3",
   "metadata": {},
   "source": [
    "# Analisis Basico de Datos con Python"
   ]
  },
  {
   "cell_type": "markdown",
   "id": "5811a038",
   "metadata": {},
   "source": [
    "### Importamos la libreria de Pandas"
   ]
  },
  {
   "cell_type": "markdown",
   "id": "b1d4c71b",
   "metadata": {},
   "source": [
    "La librerias nos brinda la facilidad de carga de archivos a nuestro ambiente mediante dataframe"
   ]
  },
  {
   "cell_type": "code",
   "execution_count": 1,
   "id": "061c43f2",
   "metadata": {},
   "outputs": [],
   "source": [
    "import pandas as pd"
   ]
  },
  {
   "cell_type": "markdown",
   "id": "7734bbdc",
   "metadata": {},
   "source": [
    "Procedemos a importar el dataset en este caso se llama Methane_final.csv como en este caso el archivo se encuentra en el mismo directorio que la notebook solo se coloca el nombre del archivo con su extensión y como esta separado por comas \",\" no es necesario especificar el separador"
   ]
  },
  {
   "cell_type": "code",
   "execution_count": 2,
   "id": "6d0a92ef",
   "metadata": {},
   "outputs": [],
   "source": [
    "df = pd.read_csv('Methane_final.csv')"
   ]
  },
  {
   "cell_type": "markdown",
   "id": "5d1726a2",
   "metadata": {},
   "source": [
    "La variable df de tipo DataFrame ahora contiene los datos del archivo \".csv\" que cargamos"
   ]
  },
  {
   "cell_type": "markdown",
   "id": "66f6bb89",
   "metadata": {},
   "source": [
    "## Empezaremos con lo que son los Analisis de Exploracion de Datos o como se le conoce en ingles Exploration Data Analisis (EDA)"
   ]
  },
  {
   "cell_type": "markdown",
   "id": "939f5f59",
   "metadata": {},
   "source": [
    "El análisis exploratorio de datos se refiere al proceso crítico de realizar investigaciones iniciales sobre los datos para descubrir patrones, detectar anomalías, probar hipótesis y verificar suposiciones con la ayuda de estadísticas resumidas y representaciones gráficas.\n",
    "Fuente:https://towardsdatascience.com/exploratory-data-analysis-8fc1cb20fd15"
   ]
  },
  {
   "cell_type": "markdown",
   "id": "c8aa04af",
   "metadata": {},
   "source": [
    "Para echar un vistazo más de cerca a los datos empezamos utilizando la función \".head()\" de pandas que devuelve las primeras cinco lineas del Dataframe."
   ]
  },
  {
   "cell_type": "code",
   "execution_count": 4,
   "id": "8b806d34",
   "metadata": {},
   "outputs": [
    {
     "data": {
      "text/html": [
       "<div>\n",
       "<style scoped>\n",
       "    .dataframe tbody tr th:only-of-type {\n",
       "        vertical-align: middle;\n",
       "    }\n",
       "\n",
       "    .dataframe tbody tr th {\n",
       "        vertical-align: top;\n",
       "    }\n",
       "\n",
       "    .dataframe thead th {\n",
       "        text-align: right;\n",
       "    }\n",
       "</style>\n",
       "<table border=\"1\" class=\"dataframe\">\n",
       "  <thead>\n",
       "    <tr style=\"text-align: right;\">\n",
       "      <th></th>\n",
       "      <th>Unnamed: 0</th>\n",
       "      <th>region</th>\n",
       "      <th>country</th>\n",
       "      <th>emissions</th>\n",
       "      <th>type</th>\n",
       "      <th>segment</th>\n",
       "      <th>reason</th>\n",
       "      <th>baseYear</th>\n",
       "      <th>notes</th>\n",
       "    </tr>\n",
       "  </thead>\n",
       "  <tbody>\n",
       "    <tr>\n",
       "      <th>0</th>\n",
       "      <td>0</td>\n",
       "      <td>Africa</td>\n",
       "      <td>Algeria</td>\n",
       "      <td>257.611206</td>\n",
       "      <td>Agriculture</td>\n",
       "      <td>Total</td>\n",
       "      <td>All</td>\n",
       "      <td>2019-2021</td>\n",
       "      <td>Average based on United Nations Framework Conv...</td>\n",
       "    </tr>\n",
       "    <tr>\n",
       "      <th>1</th>\n",
       "      <td>1</td>\n",
       "      <td>Africa</td>\n",
       "      <td>Algeria</td>\n",
       "      <td>0.052000</td>\n",
       "      <td>Energy</td>\n",
       "      <td>Bioenergy</td>\n",
       "      <td>All</td>\n",
       "      <td>2022</td>\n",
       "      <td>Estimates from end-uses are for 2020 or 2021 (...</td>\n",
       "    </tr>\n",
       "    <tr>\n",
       "      <th>2</th>\n",
       "      <td>2</td>\n",
       "      <td>Africa</td>\n",
       "      <td>Algeria</td>\n",
       "      <td>130.798996</td>\n",
       "      <td>Energy</td>\n",
       "      <td>Gas pipelines and LNG facilities</td>\n",
       "      <td>Fugitive</td>\n",
       "      <td>2022</td>\n",
       "      <td>Not available</td>\n",
       "    </tr>\n",
       "    <tr>\n",
       "      <th>3</th>\n",
       "      <td>3</td>\n",
       "      <td>Africa</td>\n",
       "      <td>Algeria</td>\n",
       "      <td>69.741898</td>\n",
       "      <td>Energy</td>\n",
       "      <td>Gas pipelines and LNG facilities</td>\n",
       "      <td>Vented</td>\n",
       "      <td>2022</td>\n",
       "      <td>Not available</td>\n",
       "    </tr>\n",
       "    <tr>\n",
       "      <th>4</th>\n",
       "      <td>4</td>\n",
       "      <td>Africa</td>\n",
       "      <td>Algeria</td>\n",
       "      <td>213.987000</td>\n",
       "      <td>Energy</td>\n",
       "      <td>Onshore gas</td>\n",
       "      <td>Fugitive</td>\n",
       "      <td>2022</td>\n",
       "      <td>Not available</td>\n",
       "    </tr>\n",
       "  </tbody>\n",
       "</table>\n",
       "</div>"
      ],
      "text/plain": [
       "   Unnamed: 0  region  country   emissions         type  \\\n",
       "0           0  Africa  Algeria  257.611206  Agriculture   \n",
       "1           1  Africa  Algeria    0.052000       Energy   \n",
       "2           2  Africa  Algeria  130.798996       Energy   \n",
       "3           3  Africa  Algeria   69.741898       Energy   \n",
       "4           4  Africa  Algeria  213.987000       Energy   \n",
       "\n",
       "                            segment    reason   baseYear  \\\n",
       "0                             Total       All  2019-2021   \n",
       "1                         Bioenergy       All       2022   \n",
       "2  Gas pipelines and LNG facilities  Fugitive       2022   \n",
       "3  Gas pipelines and LNG facilities    Vented       2022   \n",
       "4                       Onshore gas  Fugitive       2022   \n",
       "\n",
       "                                               notes  \n",
       "0  Average based on United Nations Framework Conv...  \n",
       "1  Estimates from end-uses are for 2020 or 2021 (...  \n",
       "2                                      Not available  \n",
       "3                                      Not available  \n",
       "4                                      Not available  "
      ]
     },
     "execution_count": 4,
     "metadata": {},
     "output_type": "execute_result"
    }
   ],
   "source": [
    "df.head()"
   ]
  },
  {
   "cell_type": "markdown",
   "id": "6676d65b",
   "metadata": {},
   "source": [
    "De manera similar, utilizamos la función \".tail()\" que nos devuelve las últimas cinco lineas del Dataframe."
   ]
  },
  {
   "cell_type": "code",
   "execution_count": 7,
   "id": "fff1aaff",
   "metadata": {},
   "outputs": [
    {
     "data": {
      "text/html": [
       "<div>\n",
       "<style scoped>\n",
       "    .dataframe tbody tr th:only-of-type {\n",
       "        vertical-align: middle;\n",
       "    }\n",
       "\n",
       "    .dataframe tbody tr th {\n",
       "        vertical-align: top;\n",
       "    }\n",
       "\n",
       "    .dataframe thead th {\n",
       "        text-align: right;\n",
       "    }\n",
       "</style>\n",
       "<table border=\"1\" class=\"dataframe\">\n",
       "  <thead>\n",
       "    <tr style=\"text-align: right;\">\n",
       "      <th></th>\n",
       "      <th>Unnamed: 0</th>\n",
       "      <th>region</th>\n",
       "      <th>country</th>\n",
       "      <th>emissions</th>\n",
       "      <th>type</th>\n",
       "      <th>segment</th>\n",
       "      <th>reason</th>\n",
       "      <th>baseYear</th>\n",
       "      <th>notes</th>\n",
       "    </tr>\n",
       "  </thead>\n",
       "  <tbody>\n",
       "    <tr>\n",
       "      <th>1543</th>\n",
       "      <td>1543</td>\n",
       "      <td>World</td>\n",
       "      <td>World</td>\n",
       "      <td>3102.500000</td>\n",
       "      <td>Energy</td>\n",
       "      <td>Satellite-detected large oil and gas emissions</td>\n",
       "      <td>All</td>\n",
       "      <td>2022</td>\n",
       "      <td>Not available</td>\n",
       "    </tr>\n",
       "    <tr>\n",
       "      <th>1544</th>\n",
       "      <td>1544</td>\n",
       "      <td>World</td>\n",
       "      <td>World</td>\n",
       "      <td>30296.500000</td>\n",
       "      <td>Energy</td>\n",
       "      <td>Steam coal</td>\n",
       "      <td>All</td>\n",
       "      <td>2022</td>\n",
       "      <td>Not available</td>\n",
       "    </tr>\n",
       "    <tr>\n",
       "      <th>1545</th>\n",
       "      <td>1545</td>\n",
       "      <td>World</td>\n",
       "      <td>World</td>\n",
       "      <td>133350.984375</td>\n",
       "      <td>Energy</td>\n",
       "      <td>Total</td>\n",
       "      <td>All</td>\n",
       "      <td>2022</td>\n",
       "      <td>Estimates from end-uses are for 2020 or 2021 (...</td>\n",
       "    </tr>\n",
       "    <tr>\n",
       "      <th>1546</th>\n",
       "      <td>1546</td>\n",
       "      <td>World</td>\n",
       "      <td>World</td>\n",
       "      <td>9737.874023</td>\n",
       "      <td>Other</td>\n",
       "      <td>Total</td>\n",
       "      <td>All</td>\n",
       "      <td>2019-2021</td>\n",
       "      <td>Average based on United Nations Framework Conv...</td>\n",
       "    </tr>\n",
       "    <tr>\n",
       "      <th>1547</th>\n",
       "      <td>1547</td>\n",
       "      <td>World</td>\n",
       "      <td>World</td>\n",
       "      <td>70758.710938</td>\n",
       "      <td>Waste</td>\n",
       "      <td>Total</td>\n",
       "      <td>All</td>\n",
       "      <td>2019-2021</td>\n",
       "      <td>Average based on United Nations Framework Conv...</td>\n",
       "    </tr>\n",
       "  </tbody>\n",
       "</table>\n",
       "</div>"
      ],
      "text/plain": [
       "      Unnamed: 0 region country      emissions    type  \\\n",
       "1543        1543  World   World    3102.500000  Energy   \n",
       "1544        1544  World   World   30296.500000  Energy   \n",
       "1545        1545  World   World  133350.984375  Energy   \n",
       "1546        1546  World   World    9737.874023   Other   \n",
       "1547        1547  World   World   70758.710938   Waste   \n",
       "\n",
       "                                             segment reason   baseYear  \\\n",
       "1543  Satellite-detected large oil and gas emissions    All       2022   \n",
       "1544                                      Steam coal    All       2022   \n",
       "1545                                           Total    All       2022   \n",
       "1546                                           Total    All  2019-2021   \n",
       "1547                                           Total    All  2019-2021   \n",
       "\n",
       "                                                  notes  \n",
       "1543                                      Not available  \n",
       "1544                                      Not available  \n",
       "1545  Estimates from end-uses are for 2020 or 2021 (...  \n",
       "1546  Average based on United Nations Framework Conv...  \n",
       "1547  Average based on United Nations Framework Conv...  "
      ]
     },
     "execution_count": 7,
     "metadata": {},
     "output_type": "execute_result"
    }
   ],
   "source": [
    "df.tail()"
   ]
  },
  {
   "cell_type": "markdown",
   "id": "f129701e",
   "metadata": {},
   "source": [
    "Asi como la función \".shape\" que nos da el número total de filas y columnas en el Dataframe en el output (filas,columnas)."
   ]
  },
  {
   "cell_type": "code",
   "execution_count": 9,
   "id": "9e6b0fe6",
   "metadata": {},
   "outputs": [
    {
     "data": {
      "text/plain": [
       "(1548, 9)"
      ]
     },
     "execution_count": 9,
     "metadata": {},
     "output_type": "execute_result"
    }
   ],
   "source": [
    "df.shape"
   ]
  },
  {
   "cell_type": "markdown",
   "id": "71c0d235",
   "metadata": {},
   "source": [
    "Una vez conocemos el tamaño del Dataframe y hemos visualizado su valor inicial y final podemos a explorar un poco más a nivel tecnico.\n",
    "Gracias a la funcion \".info()\" que nos brinda una vista detalla de la extructura del DataFrame"
   ]
  },
  {
   "cell_type": "code",
   "execution_count": 10,
   "id": "77000d67",
   "metadata": {},
   "outputs": [
    {
     "name": "stdout",
     "output_type": "stream",
     "text": [
      "<class 'pandas.core.frame.DataFrame'>\n",
      "RangeIndex: 1548 entries, 0 to 1547\n",
      "Data columns (total 9 columns):\n",
      " #   Column      Non-Null Count  Dtype  \n",
      "---  ------      --------------  -----  \n",
      " 0   Unnamed: 0  1548 non-null   int64  \n",
      " 1   region      1548 non-null   object \n",
      " 2   country     1548 non-null   object \n",
      " 3   emissions   1548 non-null   float64\n",
      " 4   type        1548 non-null   object \n",
      " 5   segment     1548 non-null   object \n",
      " 6   reason      1548 non-null   object \n",
      " 7   baseYear    1548 non-null   object \n",
      " 8   notes       1548 non-null   object \n",
      "dtypes: float64(1), int64(1), object(7)\n",
      "memory usage: 109.0+ KB\n"
     ]
    }
   ],
   "source": [
    "df.info()"
   ]
  },
  {
   "cell_type": "markdown",
   "id": "f8a721bb",
   "metadata": {},
   "source": [
    "Como podemos ver nos ha mostrado el tamaño del Dataframe, sus indices, los tipos de datos de cada columna.\n",
    "si vemos con detalle solo ha captado la columna \"emisiones\" de tipo \"float64\" y las demas columnas de tipo object."
   ]
  },
  {
   "cell_type": "markdown",
   "id": "864bd1d1",
   "metadata": {},
   "source": [
    "Para cambiar el tipo de las columnas utilizaremos la función DataFrame.astype() como veremos en el siguiente paso"
   ]
  },
  {
   "cell_type": "code",
   "execution_count": 30,
   "id": "abda5c8a",
   "metadata": {},
   "outputs": [],
   "source": [
    "df=df.astype({\"region\":\"string\",\"country\":\"string\",\"emissions\": float,\"type\":\"string\",\"segment\":\"string\",\"reason\":\"string\",\"baseYear\":\"string\",\"notes\":\"string\"})"
   ]
  },
  {
   "cell_type": "code",
   "execution_count": 31,
   "id": "13cc0581",
   "metadata": {},
   "outputs": [
    {
     "name": "stdout",
     "output_type": "stream",
     "text": [
      "<class 'pandas.core.frame.DataFrame'>\n",
      "RangeIndex: 1548 entries, 0 to 1547\n",
      "Data columns (total 9 columns):\n",
      " #   Column      Non-Null Count  Dtype  \n",
      "---  ------      --------------  -----  \n",
      " 0   Unnamed: 0  1548 non-null   int64  \n",
      " 1   region      1548 non-null   string \n",
      " 2   country     1548 non-null   string \n",
      " 3   emissions   1548 non-null   float64\n",
      " 4   type        1548 non-null   string \n",
      " 5   segment     1548 non-null   string \n",
      " 6   reason      1548 non-null   string \n",
      " 7   baseYear    1548 non-null   string \n",
      " 8   notes       1548 non-null   string \n",
      "dtypes: float64(1), int64(1), string(7)\n",
      "memory usage: 109.0 KB\n"
     ]
    }
   ],
   "source": [
    "df.info()"
   ]
  },
  {
   "cell_type": "markdown",
   "id": "c7fd5ebe",
   "metadata": {},
   "source": [
    "Procedemos ahora con la funcion \".describe()\" para obtener varias estadísticas de resumen. Esta función devuelve el recuento, la media, la desviación estándar, los valores mínimo y máximo y los cuantiles de los datos."
   ]
  },
  {
   "cell_type": "code",
   "execution_count": 32,
   "id": "4bbcc313",
   "metadata": {},
   "outputs": [
    {
     "data": {
      "text/html": [
       "<div>\n",
       "<style scoped>\n",
       "    .dataframe tbody tr th:only-of-type {\n",
       "        vertical-align: middle;\n",
       "    }\n",
       "\n",
       "    .dataframe tbody tr th {\n",
       "        vertical-align: top;\n",
       "    }\n",
       "\n",
       "    .dataframe thead th {\n",
       "        text-align: right;\n",
       "    }\n",
       "</style>\n",
       "<table border=\"1\" class=\"dataframe\">\n",
       "  <thead>\n",
       "    <tr style=\"text-align: right;\">\n",
       "      <th></th>\n",
       "      <th>Unnamed: 0</th>\n",
       "      <th>emissions</th>\n",
       "    </tr>\n",
       "  </thead>\n",
       "  <tbody>\n",
       "    <tr>\n",
       "      <th>count</th>\n",
       "      <td>1548.000000</td>\n",
       "      <td>1548.000000</td>\n",
       "    </tr>\n",
       "    <tr>\n",
       "      <th>mean</th>\n",
       "      <td>773.500000</td>\n",
       "      <td>643.255972</td>\n",
       "    </tr>\n",
       "    <tr>\n",
       "      <th>std</th>\n",
       "      <td>447.013423</td>\n",
       "      <td>5566.238201</td>\n",
       "    </tr>\n",
       "    <tr>\n",
       "      <th>min</th>\n",
       "      <td>0.000000</td>\n",
       "      <td>0.000459</td>\n",
       "    </tr>\n",
       "    <tr>\n",
       "      <th>25%</th>\n",
       "      <td>386.750000</td>\n",
       "      <td>2.659361</td>\n",
       "    </tr>\n",
       "    <tr>\n",
       "      <th>50%</th>\n",
       "      <td>773.500000</td>\n",
       "      <td>24.064669</td>\n",
       "    </tr>\n",
       "    <tr>\n",
       "      <th>75%</th>\n",
       "      <td>1160.250000</td>\n",
       "      <td>128.419594</td>\n",
       "    </tr>\n",
       "    <tr>\n",
       "      <th>max</th>\n",
       "      <td>1547.000000</td>\n",
       "      <td>141953.765625</td>\n",
       "    </tr>\n",
       "  </tbody>\n",
       "</table>\n",
       "</div>"
      ],
      "text/plain": [
       "        Unnamed: 0      emissions\n",
       "count  1548.000000    1548.000000\n",
       "mean    773.500000     643.255972\n",
       "std     447.013423    5566.238201\n",
       "min       0.000000       0.000459\n",
       "25%     386.750000       2.659361\n",
       "50%     773.500000      24.064669\n",
       "75%    1160.250000     128.419594\n",
       "max    1547.000000  141953.765625"
      ]
     },
     "execution_count": 32,
     "metadata": {},
     "output_type": "execute_result"
    }
   ],
   "source": [
    "df.describe()"
   ]
  },
  {
   "cell_type": "markdown",
   "id": "4288c89e",
   "metadata": {},
   "source": [
    "Revisamos si contamos con algun valor NULL en las columnas"
   ]
  },
  {
   "cell_type": "code",
   "execution_count": 34,
   "id": "f4153268",
   "metadata": {},
   "outputs": [
    {
     "data": {
      "text/plain": [
       "Unnamed: 0    0\n",
       "region        0\n",
       "country       0\n",
       "emissions     0\n",
       "type          0\n",
       "segment       0\n",
       "reason        0\n",
       "baseYear      0\n",
       "notes         0\n",
       "dtype: int64"
      ]
     },
     "execution_count": 34,
     "metadata": {},
     "output_type": "execute_result"
    }
   ],
   "source": [
    "df.isnull().sum()"
   ]
  },
  {
   "cell_type": "markdown",
   "id": "1ee29dea",
   "metadata": {},
   "source": [
    "## Importaremos la libreria MATPLOTIB.PYPLOT "
   ]
  },
  {
   "cell_type": "markdown",
   "id": "4db84418",
   "metadata": {},
   "source": [
    "La utilizaremos para realizar una pequeña exploracion de datos"
   ]
  },
  {
   "cell_type": "code",
   "execution_count": 35,
   "id": "0af11953",
   "metadata": {},
   "outputs": [],
   "source": [
    "import matplotlib.pyplot as plt"
   ]
  },
  {
   "cell_type": "markdown",
   "id": "94a994f7",
   "metadata": {},
   "source": [
    "Crearemos un nuevo DataFrame pero esta vez resumido en el cual agruparemos los valores por \"region\" y sumaremos las emisiones"
   ]
  },
  {
   "cell_type": "code",
   "execution_count": 37,
   "id": "999c15a9",
   "metadata": {},
   "outputs": [],
   "source": [
    "emisionxregion = df.groupby(\"region\")[\"emissions\"].sum()"
   ]
  },
  {
   "cell_type": "markdown",
   "id": "3eda4c30",
   "metadata": {},
   "source": [
    "Procedemos a crear un grafico de barras utilizando la libreria matplotlib.plot.bar como vemos a continuación"
   ]
  },
  {
   "cell_type": "code",
   "execution_count": 38,
   "id": "e3f6b0a3",
   "metadata": {},
   "outputs": [
    {
     "data": {
      "image/png": "[encoded data removed]",
      "text/plain": [
       "<Figure size 640x480 with 1 Axes>"
      ]
     },
     "metadata": {},
     "output_type": "display_data"
    }
   ],
   "source": [
    "emisionxregion.plot.bar()\n",
    "plt.show()"
   ]
  },
  {
   "cell_type": "markdown",
   "id": "35a739a4",
   "metadata": {},
   "source": [
    "Notamos que el la \"region\" con valor \"World\" no es relevante para este analisis procedemos a elimanarle con la funcion \"drop\" como vemos a continuación asignandolo a un nuevo dataframe"
   ]
  },
  {
   "cell_type": "code",
   "execution_count": 41,
   "id": "7143b78b",
   "metadata": {},
   "outputs": [],
   "source": [
    "nwexr=emisionxregion.drop(\"World\")"
   ]
  },
  {
   "cell_type": "markdown",
   "id": "e0ab4641",
   "metadata": {},
   "source": [
    "Una vez eliminado procedemos a validar nuevamente ejecutando el comando nuevamente  "
   ]
  },
  {
   "cell_type": "code",
   "execution_count": 42,
   "id": "af8b3b2d",
   "metadata": {},
   "outputs": [
    {
     "data": {
      "image/png": "[encoded data removed]",
      "text/plain": [
       "<Figure size 640x480 with 1 Axes>"
      ]
     },
     "metadata": {},
     "output_type": "display_data"
    }
   ],
   "source": [
    "nwexr.plot.bar()\n",
    "plt.show()"
   ]
  },
  {
   "cell_type": "markdown",
   "id": "8dc5cc61",
   "metadata": {},
   "source": [
    "Como podemos observar desaparecio la \"región\" de \"World\" permitiendonos ver dichas emisiones por region asi como la cantidad emisiones de cada region comparada con las demás regiones  "
   ]
  },
  {
   "cell_type": "markdown",
   "id": "899eb4ba",
   "metadata": {},
   "source": [
    "Si deseamos ver el grafico por participación en las emisiones totales lo podemos hacer mediante un grafico de pie como vemos a continuación"
   ]
  },
  {
   "cell_type": "code",
   "execution_count": 65,
   "id": "9b5adb57",
   "metadata": {},
   "outputs": [
    {
     "data": {
      "image/png": "[encoded data removed]",
      "text/plain": [
       "<Figure size 640x480 with 1 Axes>"
      ]
     },
     "metadata": {},
     "output_type": "display_data"
    }
   ],
   "source": [
    "nwexr.plot.pie(startangle = 180,autopct='%1.2f%%')\n",
    "plt.show()"
   ]
  },
  {
   "cell_type": "code",
   "execution_count": null,
   "id": "47d844dc",
   "metadata": {},
   "outputs": [],
   "source": []
  },
  {
   "cell_type": "code",
   "execution_count": null,
   "id": "80abac7a",
   "metadata": {},
   "outputs": [],
   "source": []
  }
 ],
 "metadata": {
  "kernelspec": {
   "display_name": "Python 3 (ipykernel)",
   "language": "python",
   "name": "python3"
  },
  "language_info": {
   "codemirror_mode": {
    "name": "ipython",
    "version": 3
   },
   "file_extension": ".py",
   "mimetype": "text/x-python",
   "name": "python",
   "nbconvert_exporter": "python",
   "pygments_lexer": "ipython3",
   "version": "3.9.13"
  }
 },
 "nbformat": 4,
 "nbformat_minor": 5
}
